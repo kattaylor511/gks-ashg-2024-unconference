{
 "cells": [
  {
   "cell_type": "code",
   "execution_count": 20,
   "metadata": {},
   "outputs": [
    {
     "name": "stdout",
     "output_type": "stream",
     "text": [
      "{\"id\":\"clinvar:662001\",\"type\":\"CategoricalVariant\",\"label\":\"NM_004958.4(MTOR):c.5992_5993del (p.Met1998fs)\",\"description\":null,\"alternativeLabels\":null,\"extensions\":[{\"name\":\"cytogenetic location\",\"value\":\"1p36.22\",\"description\":null},{\"name\":\"clinvar variation type\",\"value\":\"Deletion\",\"description\":null},{\"name\":\"clinvar subclass type\",\"value\":\"SimpleAllele\",\"description\":null},{\"name\":\"hgvs list\",\"value\":[{\"nucleotideExpression\":{\"syntax\":\"hgvs.g\",\"value\":\"NC_000001.11:g.11128044_11128045del\"},\"nucleotideType\":\"genomic, top-level\"},{\"nucleotideExpression\":{\"syntax\":\"hgvs.g\",\"value\":\"NC_000001.10:g.11188101_11188102del\"},\"nucleotideType\":\"genomic\"},{\"nucleotideExpression\":{\"syntax\":\"hgvs.c\",\"value\":\"NM_004958.4:c.5992_5993del\"},\"nucleotideType\":\"coding\",\"maneSelect\":true,\"proteinExpression\":{\"syntax\":\"hgvs.p\",\"value\":\"NP_004949.3:p.Met1998fs\"},\"molecularConsequence\":{\"code\":\"SO:0001589\",\"system\":\"http://www.sequenceontology.org/browser/current_release/term/\",\"label\":\"frameshift_variant\"}},{\"nucleotideExpression\":{\"syntax\":\"hgvs.g\",\"value\":\"NG_033239.1:g.139507_139508del\"},\"nucleotideType\":\"genomic\"},{\"nucleotideExpression\":{\"syntax\":\"hgvs.g\",\"value\":\"LRG_734:g.139507_139508del\"},\"nucleotideType\":\"genomic\"},{\"nucleotideExpression\":{\"syntax\":\"hgvs.c\",\"value\":\"LRG_734t1:c.5992_5993del\"},\"nucleotideType\":\"coding\"}],\"description\":null}],\"mappings\":[{\"coding\":{\"label\":null,\"system\":\"https://reg.clinicalgenome.org/\",\"systemVersion\":null,\"code\":\"CA915941124\"},\"relation\":\"closeMatch\"},{\"coding\":{\"label\":null,\"system\":\"https://varsome.com/variant/\",\"systemVersion\":null,\"code\":\"hg38/rs1570942058\"},\"relation\":\"relatedMatch\"},{\"coding\":{\"label\":null,\"system\":\"https://www.ncbi.nlm.nih.gov/snp/\",\"systemVersion\":null,\"code\":\"rs1570942058\"},\"relation\":\"relatedMatch\"}],\"members\":[{\"id\":\"ga4gh:VA.PN-6_l2_yI1UPBRCtFnWkR52iZXKVJ8b\",\"type\":\"Allele\",\"label\":\"NC_000001.11:11128043:AT:\",\"description\":null,\"alternativeLabels\":null,\"extensions\":[{\"name\":\"clinvar vcf\",\"value\":\"1-11128043-CAT-C\",\"description\":null},{\"name\":\"clinvar hgvs type\",\"value\":\"genomic, top-level\",\"description\":null}],\"digest\":\"PN-6_l2_yI1UPBRCtFnWkR52iZXKVJ8b\",\"expressions\":[{\"syntax\":\"spdi\",\"value\":\"NC_000001.11:11128043:AT:\",\"syntax_version\":null},{\"syntax\":\"hgvs.g\",\"value\":\"NC_000001.11:g.11128044_11128045del\",\"syntax_version\":null},{\"syntax\":\"gnomad\",\"value\":\"1-11128043-CAT-C\",\"syntax_version\":null}],\"location\":{\"id\":\"ga4gh:SL.5-SKfXZ941W7JbZW3UmQKtijyUfd6d7z\",\"type\":\"SequenceLocation\",\"label\":null,\"description\":null,\"alternativeLabels\":null,\"extensions\":null,\"digest\":\"5-SKfXZ941W7JbZW3UmQKtijyUfd6d7z\",\"sequenceReference\":{\"id\":\"NC_000001.11\",\"type\":\"SequenceReference\",\"label\":null,\"description\":null,\"alternativeLabels\":null,\"extensions\":[{\"name\":\"assembly\",\"value\":\"GRCh38\",\"description\":null},{\"name\":\"chromosome\",\"value\":\"1\",\"description\":null}],\"refgetAccession\":\"SQ.Ya6Rs7DHhDeg7YaOSg1EoNi3U_nQ9SvO\",\"residueAlphabet\":\"na\",\"circular\":null},\"start\":11128043,\"end\":11128045,\"sequence\":null},\"state\":{\"id\":null,\"type\":\"ReferenceLengthExpression\",\"label\":null,\"description\":null,\"alternativeLabels\":null,\"extensions\":null,\"length\":0,\"sequence\":\"\",\"repeatSubunitLength\":2}}],\"constraints\":[{\"type\":\"DefiningContextConstraint\",\"definingContext\":{\"id\":\"ga4gh:VA.PN-6_l2_yI1UPBRCtFnWkR52iZXKVJ8b\",\"type\":\"Allele\",\"label\":\"NC_000001.11:11128043:AT:\",\"description\":null,\"alternativeLabels\":null,\"extensions\":[{\"name\":\"clinvar vcf\",\"value\":\"1-11128043-CAT-C\",\"description\":null},{\"name\":\"clinvar hgvs type\",\"value\":\"genomic, top-level\",\"description\":null}],\"digest\":\"PN-6_l2_yI1UPBRCtFnWkR52iZXKVJ8b\",\"expressions\":[{\"syntax\":\"spdi\",\"value\":\"NC_000001.11:11128043:AT:\",\"syntax_version\":null},{\"syntax\":\"hgvs.g\",\"value\":\"NC_000001.11:g.11128044_11128045del\",\"syntax_version\":null},{\"syntax\":\"gnomad\",\"value\":\"1-11128043-CAT-C\",\"syntax_version\":null}],\"location\":{\"id\":\"ga4gh:SL.5-SKfXZ941W7JbZW3UmQKtijyUfd6d7z\",\"type\":\"SequenceLocation\",\"label\":null,\"description\":null,\"alternativeLabels\":null,\"extensions\":null,\"digest\":\"5-SKfXZ941W7JbZW3UmQKtijyUfd6d7z\",\"sequenceReference\":{\"id\":\"NC_000001.11\",\"type\":\"SequenceReference\",\"label\":null,\"description\":null,\"alternativeLabels\":null,\"extensions\":[{\"name\":\"assembly\",\"value\":\"GRCh38\",\"description\":null},{\"name\":\"chromosome\",\"value\":\"1\",\"description\":null}],\"refgetAccession\":\"SQ.Ya6Rs7DHhDeg7YaOSg1EoNi3U_nQ9SvO\",\"residueAlphabet\":\"na\",\"circular\":null},\"start\":11128043,\"end\":11128045,\"sequence\":null},\"state\":{\"id\":null,\"type\":\"ReferenceLengthExpression\",\"label\":null,\"description\":null,\"alternativeLabels\":null,\"extensions\":null,\"length\":0,\"sequence\":\"\",\"repeatSubunitLength\":2}},\"relations\":[\"sequence_liftover\",\"transcript_projection\"]}]}\n"
     ]
    }
   ],
   "source": [
    "import pydantic\n",
    "from ga4gh.cat_vrs.core_models import CategoricalVariant, DefiningContextConstraint\n",
    "\n",
    "json_data=open(\"cat-vrs-test-set.json\", \"r\").read()\n",
    "cat_vars=CategoricalVariant.model_validate_json(json_data) # This should be updated to actually intake more than 1 variant\n",
    "print(cat_vars.model_dump_json())"
   ]
  },
  {
   "cell_type": "code",
   "execution_count": 22,
   "metadata": {},
   "outputs": [],
   "source": [
    "import pysam\n",
    "\n",
    "from ga4gh.vrs.dataproxy import create_dataproxy\n",
    "seqrepo_rest_service_url = \"https://services.genomicmedlab.org/seqrepo\"\n",
    "\n",
    "from ga4gh.vrs.extras.vcf_annotation import VCFAnnotator, SeqRepoProxyType\n",
    "input_vcf_path=\"./test_vcf_input.vcf\"\n",
    "input_vcf_path = pysam.VariantFile(filename=input_vcf_path)\n",
    "annotator=VCFAnnotator(SeqRepoProxyType.REST, seqrepo_rest_service_url)\n",
    "additional_info_fields = [annotator.VRS_ALLELE_IDS_FIELD]"
   ]
  },
  {
   "cell_type": "code",
   "execution_count": 21,
   "metadata": {},
   "outputs": [],
   "source": [
    "\n",
    "def match_vrs_id_to_cat_vrs(vrs_id: str, cat_var: CategoricalVariant):\n",
    "    constraints = cat_var.constraints\n",
    "    for constraint in constraints:\n",
    "        if isinstance(constraint, DefiningContextConstraint) and constraint.definingContext.id == vrs_id:\n",
    "            print(\"match\")\n",
    "        elif isinstance(constraint, DefiningContextConstraint) and constraint.definingContext.id != vrs_id:\n",
    "            print(constraint.definingContext.id + \" did not match \" + vrs_id)\n",
    "\n",
    "\n",
    "for record in input_vcf_path:\n",
    "    vrs_field_data = annotator._get_vrs_data(record, {}, \"GRCh38\", additional_info_fields, output_vcf=\"testvcf.vcf\", require_validation=False)\n",
    "    vrs_ids = vrs_field_data[annotator.VRS_ALLELE_IDS_FIELD]\n",
    "    for vrs_id in vrs_ids:\n",
    "        if vrs_id == \"\": continue\n",
    "        match_vrs_id_to_cat_vrs(vrs_id, cat_vars)\n"
   ]
  },
  {
   "cell_type": "code",
   "execution_count": null,
   "metadata": {},
   "outputs": [],
   "source": []
  }
 ],
 "metadata": {
  "kernelspec": {
   "display_name": "3.12",
   "language": "python",
   "name": "python3"
  },
  "language_info": {
   "codemirror_mode": {
    "name": "ipython",
    "version": 3
   },
   "file_extension": ".py",
   "mimetype": "text/x-python",
   "name": "python",
   "nbconvert_exporter": "python",
   "pygments_lexer": "ipython3",
   "version": "3.12.7"
  }
 },
 "nbformat": 4,
 "nbformat_minor": 2
}
